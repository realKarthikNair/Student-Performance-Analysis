{
 "cells": [
  {
   "cell_type": "markdown",
   "metadata": {},
   "source": [
    "# Individualized Progress Tracking\n",
    "\n",
    "This notebook is part of BCA / Sem 5 / Machine Learning / Project / Individualized Progress Tracking\n",
    "\n",
    "#### Objective\n",
    " \n",
    "Develop a tool that allows users to track their progress in various learning modules. Include visualizations and statistics to help users understand their strengths and areas that need improvement."
   ]
  },
  {
   "cell_type": "markdown",
   "metadata": {},
   "source": [
    "Dataset : https://www.statlect.com/datasets/SimpleR-Pre-loaded-Student-performance.csv"
   ]
  },
  {
   "cell_type": "markdown",
   "metadata": {},
   "source": [
    "### Setting up the environment\n",
    "\n",
    "```bash\n",
    "# after creating a virtual environment and activating it\n",
    "pip install -r requirements.txt\n",
    "# also rename dataset to StudentPerformance.csv\n",
    "mv SimpleR-Pre-loaded-Student-performance.csv StudentPerformance.csv\n",
    "```\n"
   ]
  },
  {
   "cell_type": "code",
   "execution_count": 1,
   "metadata": {},
   "outputs": [],
   "source": [
    "import pandas as pd\n",
    "import numpy as np\n",
    "import matplotlib.pyplot as plt\n",
    "import seaborn as sns"
   ]
  },
  {
   "cell_type": "code",
   "execution_count": 2,
   "metadata": {},
   "outputs": [],
   "source": [
    "df=pd.read_csv('StudentsPerformance.csv')"
   ]
  },
  {
   "cell_type": "code",
   "execution_count": 3,
   "metadata": {},
   "outputs": [
    {
     "data": {
      "text/html": [
       "<div>\n",
       "<style scoped>\n",
       "    .dataframe tbody tr th:only-of-type {\n",
       "        vertical-align: middle;\n",
       "    }\n",
       "\n",
       "    .dataframe tbody tr th {\n",
       "        vertical-align: top;\n",
       "    }\n",
       "\n",
       "    .dataframe thead th {\n",
       "        text-align: right;\n",
       "    }\n",
       "</style>\n",
       "<table border=\"1\" class=\"dataframe\">\n",
       "  <thead>\n",
       "    <tr style=\"text-align: right;\">\n",
       "      <th></th>\n",
       "      <th>gender</th>\n",
       "      <th>race/ethnicity</th>\n",
       "      <th>parental level of education</th>\n",
       "      <th>lunch</th>\n",
       "      <th>test preparation course</th>\n",
       "      <th>math score</th>\n",
       "      <th>reading score</th>\n",
       "      <th>writing score</th>\n",
       "    </tr>\n",
       "  </thead>\n",
       "  <tbody>\n",
       "    <tr>\n",
       "      <th>0</th>\n",
       "      <td>female</td>\n",
       "      <td>group B</td>\n",
       "      <td>bachelor's degree</td>\n",
       "      <td>standard</td>\n",
       "      <td>none</td>\n",
       "      <td>72</td>\n",
       "      <td>72</td>\n",
       "      <td>74</td>\n",
       "    </tr>\n",
       "    <tr>\n",
       "      <th>1</th>\n",
       "      <td>female</td>\n",
       "      <td>group C</td>\n",
       "      <td>some college</td>\n",
       "      <td>standard</td>\n",
       "      <td>completed</td>\n",
       "      <td>69</td>\n",
       "      <td>90</td>\n",
       "      <td>88</td>\n",
       "    </tr>\n",
       "    <tr>\n",
       "      <th>2</th>\n",
       "      <td>female</td>\n",
       "      <td>group B</td>\n",
       "      <td>master's degree</td>\n",
       "      <td>standard</td>\n",
       "      <td>none</td>\n",
       "      <td>90</td>\n",
       "      <td>95</td>\n",
       "      <td>93</td>\n",
       "    </tr>\n",
       "    <tr>\n",
       "      <th>3</th>\n",
       "      <td>male</td>\n",
       "      <td>group A</td>\n",
       "      <td>associate's degree</td>\n",
       "      <td>free/reduced</td>\n",
       "      <td>none</td>\n",
       "      <td>47</td>\n",
       "      <td>57</td>\n",
       "      <td>44</td>\n",
       "    </tr>\n",
       "    <tr>\n",
       "      <th>4</th>\n",
       "      <td>male</td>\n",
       "      <td>group C</td>\n",
       "      <td>some college</td>\n",
       "      <td>standard</td>\n",
       "      <td>none</td>\n",
       "      <td>76</td>\n",
       "      <td>78</td>\n",
       "      <td>75</td>\n",
       "    </tr>\n",
       "  </tbody>\n",
       "</table>\n",
       "</div>"
      ],
      "text/plain": [
       "   gender race/ethnicity parental level of education         lunch  \\\n",
       "0  female        group B           bachelor's degree      standard   \n",
       "1  female        group C                some college      standard   \n",
       "2  female        group B             master's degree      standard   \n",
       "3    male        group A          associate's degree  free/reduced   \n",
       "4    male        group C                some college      standard   \n",
       "\n",
       "  test preparation course  math score  reading score  writing score  \n",
       "0                    none          72             72             74  \n",
       "1               completed          69             90             88  \n",
       "2                    none          90             95             93  \n",
       "3                    none          47             57             44  \n",
       "4                    none          76             78             75  "
      ]
     },
     "execution_count": 3,
     "metadata": {},
     "output_type": "execute_result"
    }
   ],
   "source": [
    "df.head()"
   ]
  },
  {
   "cell_type": "code",
   "execution_count": 4,
   "metadata": {},
   "outputs": [
    {
     "name": "stdout",
     "output_type": "stream",
     "text": [
      "(1000, 8)\n",
      "<class 'pandas.core.frame.DataFrame'>\n",
      "RangeIndex: 1000 entries, 0 to 999\n",
      "Data columns (total 8 columns):\n",
      " #   Column                       Non-Null Count  Dtype \n",
      "---  ------                       --------------  ----- \n",
      " 0   gender                       1000 non-null   object\n",
      " 1   race/ethnicity               1000 non-null   object\n",
      " 2   parental level of education  1000 non-null   object\n",
      " 3   lunch                        1000 non-null   object\n",
      " 4   test preparation course      1000 non-null   object\n",
      " 5   math score                   1000 non-null   int64 \n",
      " 6   reading score                1000 non-null   int64 \n",
      " 7   writing score                1000 non-null   int64 \n",
      "dtypes: int64(3), object(5)\n",
      "memory usage: 62.6+ KB\n"
     ]
    }
   ],
   "source": [
    "print(df.shape)\n",
    "df.info()"
   ]
  },
  {
   "cell_type": "markdown",
   "metadata": {},
   "source": [
    "##### We saw a memory usage of 62 KB, which is not bad. But we can do better. \n",
    "\n",
    "- Scores can be represented in int16\n",
    "\n",
    "- race/ethnicity are within 5 categories (`'group A', 'group B', 'group C', 'group D', 'group E'`), so we can use category instead of object\n",
    "\n",
    "- parental level of education are within 6 categories (`[\"bachelor's degree\", 'some college', \"master's degree\",\n",
    "       \"associate's degree\", 'high school', 'some high school']`), so we can use category instead of object\n",
    "\n",
    "- lunch are within 2 categories (`['standard', 'free/reduced']`), so we can use category instead of object there too.\n"
   ]
  },
  {
   "cell_type": "code",
   "execution_count": 5,
   "metadata": {},
   "outputs": [],
   "source": [
    "df['math score'] = df['math score'].astype(np.int16)\n",
    "df['reading score'] = df['reading score'].astype(np.int16)\n",
    "df['writing score'] = df['writing score'].astype(np.int16)\n",
    "df['gender'] = df['gender'].astype('category')\n",
    "df['gender'] = df['gender'].replace({'F': 'female', 'M': 'male'})\n",
    "df['race/ethnicity'] = df['race/ethnicity'].astype('category')\n",
    "df['parental level of education'] = df['parental level of education'].astype('category')\n",
    "df['lunch'] = df['lunch'].astype('category')\n"
   ]
  },
  {
   "cell_type": "code",
   "execution_count": 6,
   "metadata": {},
   "outputs": [
    {
     "name": "stdout",
     "output_type": "stream",
     "text": [
      "<class 'pandas.core.frame.DataFrame'>\n",
      "RangeIndex: 1000 entries, 0 to 999\n",
      "Data columns (total 8 columns):\n",
      " #   Column                       Non-Null Count  Dtype   \n",
      "---  ------                       --------------  -----   \n",
      " 0   gender                       1000 non-null   category\n",
      " 1   race/ethnicity               1000 non-null   category\n",
      " 2   parental level of education  1000 non-null   category\n",
      " 3   lunch                        1000 non-null   category\n",
      " 4   test preparation course      1000 non-null   object  \n",
      " 5   math score                   1000 non-null   int16   \n",
      " 6   reading score                1000 non-null   int16   \n",
      " 7   writing score                1000 non-null   int16   \n",
      "dtypes: category(4), int16(3), object(1)\n",
      "memory usage: 18.4+ KB\n"
     ]
    }
   ],
   "source": [
    "df.info()"
   ]
  },
  {
   "cell_type": "markdown",
   "metadata": {},
   "source": [
    "##### Now we are using just a little over 15 KB of memory, which is a **75% reduction** in memory usage \n",
    "\n",
    "**Lets look for missing values now**"
   ]
  },
  {
   "cell_type": "code",
   "execution_count": 7,
   "metadata": {},
   "outputs": [
    {
     "data": {
      "text/plain": [
       "gender                         0\n",
       "race/ethnicity                 0\n",
       "parental level of education    0\n",
       "lunch                          0\n",
       "test preparation course        0\n",
       "math score                     0\n",
       "reading score                  0\n",
       "writing score                  0\n",
       "dtype: int64"
      ]
     },
     "execution_count": 7,
     "metadata": {},
     "output_type": "execute_result"
    }
   ],
   "source": [
    "df.isnull().sum()"
   ]
  },
  {
   "cell_type": "markdown",
   "metadata": {},
   "source": [
    "> No missing values, which is great!"
   ]
  },
  {
   "cell_type": "markdown",
   "metadata": {},
   "source": [
    "# Preparing the data\n",
    "\n",
    "- passing marks = 33%\n",
    "- grading system\n",
    "```\n",
    "{\n",
    "    [[95, 100], O, Outstanding],\n",
    "    [[80, 95), A, Excellent],\n",
    "    [[65, 80), B, Good],\n",
    "    [[50, 65), C, Substantial],\n",
    "    [[33, 50), D, Marginal],\n",
    "    [[0, 33), F, Fail]\n",
    "}\n",
    "```"
   ]
  },
  {
   "cell_type": "code",
   "execution_count": 8,
   "metadata": {},
   "outputs": [
    {
     "name": "stdout",
     "output_type": "stream",
     "text": [
      "True\n"
     ]
    },
    {
     "data": {
      "text/html": [
       "<div>\n",
       "<style scoped>\n",
       "    .dataframe tbody tr th:only-of-type {\n",
       "        vertical-align: middle;\n",
       "    }\n",
       "\n",
       "    .dataframe tbody tr th {\n",
       "        vertical-align: top;\n",
       "    }\n",
       "\n",
       "    .dataframe thead th {\n",
       "        text-align: right;\n",
       "    }\n",
       "</style>\n",
       "<table border=\"1\" class=\"dataframe\">\n",
       "  <thead>\n",
       "    <tr style=\"text-align: right;\">\n",
       "      <th></th>\n",
       "      <th>gender</th>\n",
       "      <th>race/ethnicity</th>\n",
       "      <th>parental level of education</th>\n",
       "      <th>lunch</th>\n",
       "      <th>test preparation course</th>\n",
       "      <th>math score</th>\n",
       "      <th>reading score</th>\n",
       "      <th>writing score</th>\n",
       "      <th>Math_PassStatus</th>\n",
       "      <th>Reading_PassStatus</th>\n",
       "      <th>Writing_PassStatus</th>\n",
       "      <th>OverAll_PassStatus</th>\n",
       "      <th>Percentage</th>\n",
       "      <th>Grade</th>\n",
       "      <th>Remarks</th>\n",
       "    </tr>\n",
       "  </thead>\n",
       "  <tbody>\n",
       "    <tr>\n",
       "      <th>0</th>\n",
       "      <td>female</td>\n",
       "      <td>group B</td>\n",
       "      <td>bachelor's degree</td>\n",
       "      <td>standard</td>\n",
       "      <td>none</td>\n",
       "      <td>72</td>\n",
       "      <td>72</td>\n",
       "      <td>74</td>\n",
       "      <td>P</td>\n",
       "      <td>P</td>\n",
       "      <td>P</td>\n",
       "      <td>P</td>\n",
       "      <td>72.666667</td>\n",
       "      <td>B</td>\n",
       "      <td>Good</td>\n",
       "    </tr>\n",
       "    <tr>\n",
       "      <th>1</th>\n",
       "      <td>female</td>\n",
       "      <td>group C</td>\n",
       "      <td>some college</td>\n",
       "      <td>standard</td>\n",
       "      <td>completed</td>\n",
       "      <td>69</td>\n",
       "      <td>90</td>\n",
       "      <td>88</td>\n",
       "      <td>P</td>\n",
       "      <td>P</td>\n",
       "      <td>P</td>\n",
       "      <td>P</td>\n",
       "      <td>82.333333</td>\n",
       "      <td>A</td>\n",
       "      <td>Excellent</td>\n",
       "    </tr>\n",
       "    <tr>\n",
       "      <th>2</th>\n",
       "      <td>female</td>\n",
       "      <td>group B</td>\n",
       "      <td>master's degree</td>\n",
       "      <td>standard</td>\n",
       "      <td>none</td>\n",
       "      <td>90</td>\n",
       "      <td>95</td>\n",
       "      <td>93</td>\n",
       "      <td>P</td>\n",
       "      <td>P</td>\n",
       "      <td>P</td>\n",
       "      <td>P</td>\n",
       "      <td>92.666667</td>\n",
       "      <td>A</td>\n",
       "      <td>Excellent</td>\n",
       "    </tr>\n",
       "    <tr>\n",
       "      <th>3</th>\n",
       "      <td>male</td>\n",
       "      <td>group A</td>\n",
       "      <td>associate's degree</td>\n",
       "      <td>free/reduced</td>\n",
       "      <td>none</td>\n",
       "      <td>47</td>\n",
       "      <td>57</td>\n",
       "      <td>44</td>\n",
       "      <td>P</td>\n",
       "      <td>P</td>\n",
       "      <td>P</td>\n",
       "      <td>P</td>\n",
       "      <td>49.333333</td>\n",
       "      <td>D</td>\n",
       "      <td>Marginal</td>\n",
       "    </tr>\n",
       "    <tr>\n",
       "      <th>4</th>\n",
       "      <td>male</td>\n",
       "      <td>group C</td>\n",
       "      <td>some college</td>\n",
       "      <td>standard</td>\n",
       "      <td>none</td>\n",
       "      <td>76</td>\n",
       "      <td>78</td>\n",
       "      <td>75</td>\n",
       "      <td>P</td>\n",
       "      <td>P</td>\n",
       "      <td>P</td>\n",
       "      <td>P</td>\n",
       "      <td>76.333333</td>\n",
       "      <td>B</td>\n",
       "      <td>Good</td>\n",
       "    </tr>\n",
       "  </tbody>\n",
       "</table>\n",
       "</div>"
      ],
      "text/plain": [
       "   gender race/ethnicity parental level of education         lunch  \\\n",
       "0  female        group B           bachelor's degree      standard   \n",
       "1  female        group C                some college      standard   \n",
       "2  female        group B             master's degree      standard   \n",
       "3    male        group A          associate's degree  free/reduced   \n",
       "4    male        group C                some college      standard   \n",
       "\n",
       "  test preparation course  math score  reading score  writing score  \\\n",
       "0                    none          72             72             74   \n",
       "1               completed          69             90             88   \n",
       "2                    none          90             95             93   \n",
       "3                    none          47             57             44   \n",
       "4                    none          76             78             75   \n",
       "\n",
       "  Math_PassStatus Reading_PassStatus Writing_PassStatus OverAll_PassStatus  \\\n",
       "0               P                  P                  P                  P   \n",
       "1               P                  P                  P                  P   \n",
       "2               P                  P                  P                  P   \n",
       "3               P                  P                  P                  P   \n",
       "4               P                  P                  P                  P   \n",
       "\n",
       "   Percentage Grade    Remarks  \n",
       "0   72.666667     B       Good  \n",
       "1   82.333333     A  Excellent  \n",
       "2   92.666667     A  Excellent  \n",
       "3   49.333333     D   Marginal  \n",
       "4   76.333333     B       Good  "
      ]
     },
     "execution_count": 8,
     "metadata": {},
     "output_type": "execute_result"
    }
   ],
   "source": [
    "passmark = 33\n",
    "df['Math_PassStatus'] = np.where(df['math score']< passmark, 'F', 'P')\n",
    "df['Reading_PassStatus'] = np.where(df['reading score']< passmark, 'F', 'P')\n",
    "df['Writing_PassStatus'] = np.where(df['writing score']< passmark, 'F', 'P')\n",
    "# pass overall \n",
    "df['OverAll_PassStatus'] = df.apply(lambda x : 'F' if x['Math_PassStatus'] == 'F' or x['Reading_PassStatus'] == 'F' or x['Writing_PassStatus'] == 'F' else 'P', axis=1)\n",
    "\n",
    "\n",
    "print(df['math score'][0]>50)\n",
    "df['Percentage'] = (df['math score'] + df['reading score'] + df['writing score'])/3\n",
    "\n",
    "def GetGrade(Percentage, Math_PassStatus, Reading_PassStatus, Writing_PassStatus):  \n",
    "    if(Percentage >= 95): return 'O'\n",
    "    if(Percentage >= 80): return 'A'\n",
    "    if(Percentage >= 65): return 'B'\n",
    "    if(Percentage >= 50): return 'C'\n",
    "    if(Percentage >= 33): return 'D'\n",
    "    else: return 'F'\n",
    "\n",
    "df['Grade'] = df.apply(lambda x : GetGrade(x['Percentage'], x['Math_PassStatus'], x['Reading_PassStatus'], x['Writing_PassStatus']), axis=1)\n",
    "\n",
    "df['Remarks'] = df.apply(lambda x : 'Outstanding' if x['Grade'] == 'O' else ('Excellent' if x['Grade'] == 'A' else ('Good' if x['Grade'] == 'B' else ('Substantial' if x['Grade'] == 'C' else ('Marginal' if x['Grade'] == 'D' else 'Fail')))), axis=1)\n",
    "\n",
    "df.head()"
   ]
  },
  {
   "cell_type": "markdown",
   "metadata": {},
   "source": [
    "#### Progress of individual student \n",
    "\n",
    "- show progress of individual student\n",
    "- progress in comparison to other students\n",
    "- progress in comparison to other students in the same grade\n"
   ]
  },
  {
   "cell_type": "markdown",
   "metadata": {},
   "source": [
    "##### show progress of individual student\n",
    "\n",
    "- Display show info such as pass/fail, grade, percentage\n",
    "- Bar char to show strong and weak subject\n",
    "- strong colored green, weak colored red, orange for average"
   ]
  },
  {
   "cell_type": "code",
   "execution_count": 9,
   "metadata": {},
   "outputs": [
    {
     "name": "stdout",
     "output_type": "stream",
     "text": [
      "lunch                         standard\n",
      "test preparation course           none\n",
      "math score                          71\n",
      "reading score                       49\n",
      "writing score                       52\n",
      "Math_PassStatus                      P\n",
      "Reading_PassStatus                   P\n",
      "Writing_PassStatus                   P\n",
      "OverAll_PassStatus                   P\n",
      "Percentage                   57.333333\n",
      "Grade                                C\n",
      "Remarks                    Substantial\n",
      "Name: 520, dtype: object\n"
     ]
    },
    {
     "name": "stderr",
     "output_type": "stream",
     "text": [
      "/tmp/ipykernel_167487/3645548472.py:15: FutureWarning: Series.__getitem__ treating keys as positions is deprecated. In a future version, integer keys will always be treated as labels (consistent with DataFrame behavior). To access a value by position, use `ser.iloc[pos]`\n",
      "  plt.bar(subjects, scores, color=[GetColor(scores[0]), GetColor(scores[1]), GetColor(scores[2])])\n"
     ]
    },
    {
     "data": {
      "image/png": "[encoded data removed]",
      "text/plain": [
       "<Figure size 640x480 with 1 Axes>"
      ]
     },
     "metadata": {},
     "output_type": "display_data"
    }
   ],
   "source": [
    "student_id = 520\n",
    "print(df.iloc[student_id][3:])\n",
    "\n",
    "scores = df.iloc[student_id][['math score', 'reading score', 'writing score']]\n",
    "subjects = ['Math', 'Reading', 'Writing']\n",
    "\n",
    "def GetColor(score):\n",
    "    if(score >=65): \n",
    "        return 'green'\n",
    "    elif (score >=50):\n",
    "        return 'orange'\n",
    "    else:\n",
    "        return 'red'\n",
    "\n",
    "plt.bar(subjects, scores, color=[GetColor(scores[0]), GetColor(scores[1]), GetColor(scores[2])])\n",
    "plt.xlabel(\"Subjects\")\n",
    "plt.ylabel(\"Scores\")\n",
    "plt.title(\"Student's Scores\")\n",
    "plt.show()"
   ]
  },
  {
   "cell_type": "markdown",
   "metadata": {},
   "source": [
    "#### progress in comparison to other students\n",
    "\n",
    "- Highest and lowest marks in the grade\n",
    "- Average marks in the grade"
   ]
  },
  {
   "cell_type": "code",
   "execution_count": 10,
   "metadata": {},
   "outputs": [
    {
     "name": "stdout",
     "output_type": "stream",
     "text": [
      "Highest Scores in the same grade as you :\n",
      "math score       74\n",
      "reading score    73\n",
      "writing score    73\n",
      "dtype: int16\n",
      "Lowest Scores in the same grade as you :\n",
      "math score       35\n",
      "reading score    44\n",
      "writing score    43\n",
      "dtype: int16\n",
      "Average Scores in the same grade as you :\n",
      "math score       56.540541\n",
      "reading score    59.260135\n",
      "writing score    57.817568\n",
      "dtype: float64\n"
     ]
    },
    {
     "name": "stderr",
     "output_type": "stream",
     "text": [
      "/tmp/ipykernel_167487/2270616417.py:13: FutureWarning: Series.__getitem__ treating keys as positions is deprecated. In a future version, integer keys will always be treated as labels (consistent with DataFrame behavior). To access a value by position, use `ser.iloc[pos]`\n",
      "  plt.barh(['Highest', 'Lowest', 'Average'], [highest_score[0], lowest_score[0], average_score[0]], color=['green', 'red', 'orange'])\n"
     ]
    },
    {
     "data": {
      "image/png": "[encoded data removed]",
      "text/plain": [
       "<Figure size 640x480 with 1 Axes>"
      ]
     },
     "metadata": {},
     "output_type": "display_data"
    },
    {
     "name": "stderr",
     "output_type": "stream",
     "text": [
      "/tmp/ipykernel_167487/2270616417.py:20: FutureWarning: Series.__getitem__ treating keys as positions is deprecated. In a future version, integer keys will always be treated as labels (consistent with DataFrame behavior). To access a value by position, use `ser.iloc[pos]`\n",
      "  plt.barh(['Highest', 'Lowest', 'Average'], [highest_score[1], lowest_score[1], average_score[1]], color=['green', 'red', 'orange'])\n"
     ]
    },
    {
     "data": {
      "image/png": "[encoded data removed]",
      "text/plain": [
       "<Figure size 640x480 with 1 Axes>"
      ]
     },
     "metadata": {},
     "output_type": "display_data"
    },
    {
     "name": "stderr",
     "output_type": "stream",
     "text": [
      "/tmp/ipykernel_167487/2270616417.py:27: FutureWarning: Series.__getitem__ treating keys as positions is deprecated. In a future version, integer keys will always be treated as labels (consistent with DataFrame behavior). To access a value by position, use `ser.iloc[pos]`\n",
      "  plt.barh(['Highest', 'Lowest', 'Average'], [highest_score[2], lowest_score[2], average_score[2]], color=['green', 'red', 'orange'])\n"
     ]
    },
    {
     "data": {
      "image/png": "[encoded data removed]",
      "text/plain": [
       "<Figure size 640x480 with 1 Axes>"
      ]
     },
     "metadata": {},
     "output_type": "display_data"
    }
   ],
   "source": [
    "scores_same_grade = df[df['Grade'] == df.iloc[student_id]['Grade']][['math score', 'reading score', 'writing score']]\n",
    "\n",
    "highest_score = scores_same_grade.max()\n",
    "lowest_score = scores_same_grade.min()\n",
    "\n",
    "print(f\"Highest Scores in the same grade as you :\\n{highest_score}\")\n",
    "print(f\"Lowest Scores in the same grade as you :\\n{lowest_score}\")\n",
    "\n",
    "\n",
    "average_score = scores_same_grade.mean()\n",
    "print(f\"Average Scores in the same grade as you :\\n{average_score}\")\n",
    "\n",
    "plt.barh(['Highest', 'Lowest', 'Average'], [highest_score[0], lowest_score[0], average_score[0]], color=['green', 'red', 'orange'])\n",
    "plt.xlabel(\"Math Scores\")\n",
    "plt.ylabel(\"Scores\")\n",
    "plt.title(\"Math Scores in the same grade\")\n",
    "plt.show()\n",
    "\n",
    "\n",
    "plt.barh(['Highest', 'Lowest', 'Average'], [highest_score[1], lowest_score[1], average_score[1]], color=['green', 'red', 'orange'])\n",
    "plt.xlabel(\"Reading Scores\")\n",
    "plt.ylabel(\"Scores\")\n",
    "plt.title(\"Reading Scores in the same grade\")\n",
    "plt.show()\n",
    "\n",
    "\n",
    "plt.barh(['Highest', 'Lowest', 'Average'], [highest_score[2], lowest_score[2], average_score[2]], color=['green', 'red', 'orange'])\n",
    "plt.xlabel(\"Writing Scores\")\n",
    "plt.ylabel(\"Scores\")\n",
    "plt.title(\"Writing Scores in the same grade\")\n",
    "plt.show()\n"
   ]
  },
  {
   "cell_type": "markdown",
   "metadata": {},
   "source": [
    "#### Rooms for improvement\n",
    "\n",
    "- Show the areas where the student is doing well\n",
    "- Show the areas where the student needs to improve\n",
    "- classmates who are doing well in the areas where the student needs to improve. Top 5 to ask for help\n",
    "\n"
   ]
  },
  {
   "cell_type": "code",
   "execution_count": 11,
   "metadata": {},
   "outputs": [
    {
     "name": "stdout",
     "output_type": "stream",
     "text": [
      "You are not doing well in any subject\n",
      "You need to improve a lot in ['reading score']\n",
      "You need to improve a little in ['math score', 'writing score']\n",
      "Classmates to ask for help in reading score: [426, 959, 443, 852, 903]\n",
      "Classmates to ask for help in math score: [239, 713, 132, 546, 447]\n",
      "Classmates to ask for help in writing score: [907, 214, 645, 962, 900]\n",
      "Good Luck!\n"
     ]
    }
   ],
   "source": [
    "stu_data = df.iloc[student_id][3:]\n",
    "\n",
    "marks = stu_data[['math score', 'reading score', 'writing score']]\n",
    "\n",
    "doing_well = [i for i in marks.index if marks[i] >= 80]\n",
    "needs_to_improve_a_lot = [i for i in marks.index if marks[i] < 50]\n",
    "needs_to_improve_a_little = [i for i in marks.index if marks[i] >= 50 and marks[i] < 80]\n",
    "\n",
    "if len(doing_well) == 0:\n",
    "    print(\"You are not doing well in any subject\")\n",
    "else:\n",
    "    print(f\"You are doing well in {doing_well}\")\n",
    "\n",
    "if len(needs_to_improve_a_lot) != 0:\n",
    "    print(f\"You need to improve a lot in {needs_to_improve_a_lot}\")\n",
    "\n",
    "if len(needs_to_improve_a_little) != 0:\n",
    "    print(f\"You need to improve a little in {needs_to_improve_a_little}\")\n",
    "\n",
    "\n",
    "for subject in needs_to_improve_a_lot:\n",
    "    classmates_doing_well = df[df[subject] >= 80]\n",
    "    \n",
    "    if len(classmates_doing_well) > 5:\n",
    "        classmates_doing_well = classmates_doing_well.sample(5)\n",
    "    \n",
    "    print(f\"Classmates to ask for help in {subject}:\", classmates_doing_well.index.tolist())\n",
    "\n",
    "for subject in needs_to_improve_a_little:\n",
    "    classmates_doing_well = df[df[subject] >= 80]\n",
    "    \n",
    "    if len(classmates_doing_well) > 5:\n",
    "        classmates_doing_well = classmates_doing_well.sample(5)\n",
    "    \n",
    "    print(f\"Classmates to ask for help in {subject}:\", classmates_doing_well.index.tolist())\n",
    "\n",
    "print(\"Good Luck!\")"
   ]
  },
  {
   "cell_type": "code",
   "execution_count": null,
   "metadata": {},
   "outputs": [],
   "source": []
  }
 ],
 "metadata": {
  "kernelspec": {
   "display_name": "mlproj",
   "language": "python",
   "name": "python3"
  },
  "language_info": {
   "codemirror_mode": {
    "name": "ipython",
    "version": 3
   },
   "file_extension": ".py",
   "mimetype": "text/x-python",
   "name": "python",
   "nbconvert_exporter": "python",
   "pygments_lexer": "ipython3",
   "version": "3.10.13"
  }
 },
 "nbformat": 4,
 "nbformat_minor": 2
}
